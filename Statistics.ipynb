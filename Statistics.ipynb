{
 "cells": [
  {
   "cell_type": "code",
   "execution_count": 3,
   "id": "36ad5b1c-6a4d-4b12-a630-55c214423def",
   "metadata": {},
   "outputs": [],
   "source": [
    "# We import Pandas and Numpy the libraries of python. Pandas used to work with data sets,Numpy used to perform various functions with arrays.\n",
    "import pandas as pd                               \n",
    "import numpy as np"
   ]
  },
  {
   "cell_type": "code",
   "execution_count": 4,
   "id": "4aad1655-8ca8-4698-80fa-9d6b829e70a7",
   "metadata": {},
   "outputs": [
    {
     "name": "stdout",
     "output_type": "stream",
     "text": [
      "     sepal_length  sepal_width  petal_length  petal_width         species\n",
      "0             5.1          3.5           1.4          0.2     Iris-setosa\n",
      "1             4.9          3.0           1.4          0.2     Iris-setosa\n",
      "2             4.7          3.2           1.3          0.2     Iris-setosa\n",
      "3             4.6          3.1           1.5          0.2     Iris-setosa\n",
      "4             5.0          3.6           1.4          0.2     Iris-setosa\n",
      "..            ...          ...           ...          ...             ...\n",
      "145           6.7          3.0           5.2          2.3  Iris-virginica\n",
      "146           6.3          2.5           5.0          1.9  Iris-virginica\n",
      "147           6.5          3.0           5.2          2.0  Iris-virginica\n",
      "148           6.2          3.4           5.4          2.3  Iris-virginica\n",
      "149           5.9          3.0           5.1          1.8  Iris-virginica\n",
      "\n",
      "[150 rows x 5 columns]\n"
     ]
    }
   ],
   "source": [
    "# We import our file through pandas as pd which helps to read which file it is.\n",
    "df= pd.read_csv(\"C:\\\\Users\\\\sb193\\\\OneDrive\\\\Documents\\\\iris.csv\")\n",
    "print(df)"
   ]
  },
  {
   "cell_type": "code",
   "execution_count": 5,
   "id": "b439bfcf-f0fb-4d1f-8919-835ff501b0e6",
   "metadata": {},
   "outputs": [],
   "source": [
    "Que1= \"\"\"Central Tendency\n",
    "         Without directly calculating the mean, determine which sepal measurement (sepal_length or sepal_width) \n",
    "         has a higher average by observing the dataset.\"\"\"                           "
   ]
  },
  {
   "cell_type": "code",
   "execution_count": 6,
   "id": "a7873664-69ce-4d67-9d12-05e13947cecd",
   "metadata": {},
   "outputs": [],
   "source": [
    "stat_df=df[[\"sepal_length\",\"sepal_width\",\"petal_length\",\"petal_width\",\"species\"]]"
   ]
  },
  {
   "cell_type": "code",
   "execution_count": 93,
   "id": "1d1edb67-2bcc-4f2f-86ab-a378d779d537",
   "metadata": {
    "scrolled": true
   },
   "outputs": [
    {
     "data": {
      "text/plain": [
       "count    150.000000\n",
       "mean       5.843333\n",
       "std        0.828066\n",
       "min        4.300000\n",
       "25%        5.100000\n",
       "50%        5.800000\n",
       "75%        6.400000\n",
       "max        7.900000\n",
       "Name: sepal_length, dtype: float64"
      ]
     },
     "execution_count": 93,
     "metadata": {},
     "output_type": "execute_result"
    }
   ],
   "source": [
    "stat_df[\"sepal_length\"].describe() "
   ]
  },
  {
   "cell_type": "code",
   "execution_count": 91,
   "id": "b2650b04-1fbe-42d9-83ad-0a69c28662c9",
   "metadata": {},
   "outputs": [
    {
     "data": {
      "text/plain": [
       "count    150.000000\n",
       "mean       3.054000\n",
       "std        0.433594\n",
       "min        2.000000\n",
       "25%        2.800000\n",
       "50%        3.000000\n",
       "75%        3.300000\n",
       "max        4.400000\n",
       "Name: sepal_width, dtype: float64"
      ]
     },
     "execution_count": 91,
     "metadata": {},
     "output_type": "execute_result"
    }
   ],
   "source": [
    "stat_df[\"sepal_width\"].describe()"
   ]
  },
  {
   "cell_type": "code",
   "execution_count": 9,
   "id": "e3f3c0bb-ebc7-4251-9ef7-d3c0ffb79985",
   "metadata": {},
   "outputs": [],
   "source": [
    "A1=\"\"\" We find the average of both sepal measurment's of sepal_length and sepal_width and we got that the  sepal_length has the higher average.\"\"\""
   ]
  },
  {
   "cell_type": "code",
   "execution_count": 10,
   "id": "515ef180-ef39-4d46-9291-da2b6d9aaa37",
   "metadata": {},
   "outputs": [],
   "source": [
    "Que2=\"\"\"Dispersion \n",
    "        Compare the variability of petal measurements by checking the difference between the \n",
    "        ranges of petal_length and petal_width. Which feature shows more spread? \"\"\""
   ]
  },
  {
   "cell_type": "code",
   "execution_count": 11,
   "id": "e1d25a5f-13fa-4ede-b6f9-40f8f5bb76e0",
   "metadata": {},
   "outputs": [
    {
     "data": {
      "text/plain": [
       "5.9"
      ]
     },
     "execution_count": 11,
     "metadata": {},
     "output_type": "execute_result"
    }
   ],
   "source": [
    "range_length= stat_df[\"petal_length\"].max()-stat_df[\"petal_length\"].min()\n",
    "range_length"
   ]
  },
  {
   "cell_type": "code",
   "execution_count": 12,
   "id": "7d0de61e-b432-4feb-ba69-5f53467e0783",
   "metadata": {},
   "outputs": [
    {
     "data": {
      "text/plain": [
       "2.4"
      ]
     },
     "execution_count": 12,
     "metadata": {},
     "output_type": "execute_result"
    }
   ],
   "source": [
    "range_width= stat_df[\"petal_width\"].max()-stat_df[\"petal_width\"].min()\n",
    "range_width"
   ]
  },
  {
   "cell_type": "code",
   "execution_count": 13,
   "id": "58a9b7e4-e120-4dfc-b20d-2b3a0ae828f7",
   "metadata": {},
   "outputs": [],
   "source": [
    "Ans2=\"\"\"The range of any data shows the variablity in data the more the range is the more the variability in data means the more data is spread,\n",
    "        the range between  petal measurments the petal_lengthh range is higher then the petal_width means the data is more spread in petal_length\"\"\""
   ]
  },
  {
   "cell_type": "code",
   "execution_count": 14,
   "id": "4993f5c1-513d-4059-b5cf-e5c1c7fac22f",
   "metadata": {},
   "outputs": [],
   "source": [
    "Que3=\"\"\" Quartiles \n",
    "         Identify which feature, sepal_length or sepal_width, has a higher interquartile range (IQR), \n",
    "         indicating greater variability in the middle 50% of the data. \"\"\""
   ]
  },
  {
   "cell_type": "code",
   "execution_count": 15,
   "id": "bfe55378-cae0-4750-95c7-4723a938242e",
   "metadata": {},
   "outputs": [
    {
     "data": {
      "text/plain": [
       "1.3000000000000007"
      ]
     },
     "execution_count": 15,
     "metadata": {},
     "output_type": "execute_result"
    }
   ],
   "source": [
    "iqr_length= stat_df[\"sepal_length\"].quantile(0.75)-stat_df[\"sepal_length\"].quantile(0.25)\n",
    "iqr_length"
   ]
  },
  {
   "cell_type": "code",
   "execution_count": 16,
   "id": "4565ec90-c973-4ab3-b133-7c13b3a3a66a",
   "metadata": {},
   "outputs": [
    {
     "data": {
      "text/plain": [
       "0.5"
      ]
     },
     "execution_count": 16,
     "metadata": {},
     "output_type": "execute_result"
    }
   ],
   "source": [
    "iqr_width= stat_df[\"sepal_width\"].quantile(0.75)-stat_df[\"sepal_width\"].quantile(0.25)\n",
    "iqr_width"
   ]
  },
  {
   "cell_type": "code",
   "execution_count": 17,
   "id": "a5e6d105-6165-4887-aa43-82f4b05dc250",
   "metadata": {},
   "outputs": [],
   "source": [
    "Ans3= \"\"\" We find irq of sepal measurments,so we get that the iqr of sepal_length is gereater than sepal_width.\"\"\""
   ]
  },
  {
   "cell_type": "code",
   "execution_count": 18,
   "id": "80898aba-e5ac-4a3d-9232-a4a1f8bceb1a",
   "metadata": {},
   "outputs": [],
   "source": [
    "Que4=\"\"\"Standard Deviation Insight \n",
    "        Based on the computed standard deviations of sepal_length and sepal_width, determine \n",
    "        which attribute exhibits more variability and discuss what this indicates about the \n",
    "        consistency of the two features. \"\"\""
   ]
  },
  {
   "cell_type": "code",
   "execution_count": 19,
   "id": "c3bbe6e1-68fa-4134-88ed-3706876c2362",
   "metadata": {},
   "outputs": [
    {
     "data": {
      "text/plain": [
       "0.8280661279778629"
      ]
     },
     "execution_count": 19,
     "metadata": {},
     "output_type": "execute_result"
    }
   ],
   "source": [
    "std_length=stat_df[\"sepal_length\"].std()\n",
    "std_length"
   ]
  },
  {
   "cell_type": "code",
   "execution_count": 20,
   "id": "aa04540f-667d-45ea-b817-c38ed0eec1d5",
   "metadata": {},
   "outputs": [
    {
     "data": {
      "text/plain": [
       "0.4335943113621737"
      ]
     },
     "execution_count": 20,
     "metadata": {},
     "output_type": "execute_result"
    }
   ],
   "source": [
    "std_width=stat_df[\"sepal_width\"].std()\n",
    "std_width"
   ]
  },
  {
   "cell_type": "code",
   "execution_count": 21,
   "id": "e6f2f76c-be67-45ca-8b67-ef0a13253dc6",
   "metadata": {},
   "outputs": [],
   "source": [
    "Ans4=\"\"\" The more the standard deviation the more data is variable and data is less consistent, so here in standard deviation of sepal measurments\n",
    "         sepal_length is higher than sepal_width means sepal_length has more variability means it's less conssistent than sepal_width.\"\"\""
   ]
  },
  {
   "cell_type": "code",
   "execution_count": 22,
   "id": "f129cbbf-4207-44e9-aacf-fda94feedc78",
   "metadata": {},
   "outputs": [],
   "source": [
    "Que5=\"\"\"Shape of Distribution \n",
    "        Without plotting, assess whether the petal_length distribution is skewed. Use a descriptive \n",
    "        statistic that measures skewness and infer the distribution shape. \"\"\""
   ]
  },
  {
   "cell_type": "code",
   "execution_count": 101,
   "id": "95f4ae2e-834f-4617-b3eb-1d846ed6b1b7",
   "metadata": {},
   "outputs": [
    {
     "data": {
      "text/plain": [
       "-1.0054293069494162"
      ]
     },
     "execution_count": 101,
     "metadata": {},
     "output_type": "execute_result"
    }
   ],
   "source": [
    "x= 3*(stat_df[\"petal_length\"].mean()-stat_df[\"petal_length\"].median())/stat_df[\"petal_length\"].std()\n",
    "x"
   ]
  },
  {
   "cell_type": "code",
   "execution_count": 99,
   "id": "9a4bbc54-90e5-497a-ad74-e88b284d06e8",
   "metadata": {},
   "outputs": [],
   "source": [
    "Ans5=\"\"\" Skweness move with the mean if its postive so the graph curve bends to positive and vice versa,if all mean,median mode lie in same so it will\n",
    "         be zero skewed. Here skewness of petal_length is negative  means the graphs tail will bend towards negative\"\"\""
   ]
  },
  {
   "cell_type": "code",
   "execution_count": 25,
   "id": "b3afa565-3dde-4c5f-a60a-9ee163fdbef1",
   "metadata": {},
   "outputs": [],
   "source": [
    "Que6=\"\"\"Symmetry \n",
    "        For which attribute, sepal_length or sepal_width, is the skewness closer to zero? What does \n",
    "        this imply about the symmetry of its distribution? \"\"\""
   ]
  },
  {
   "cell_type": "code",
   "execution_count": 26,
   "id": "1a15b82a-507f-454a-aa5e-2230d436ef23",
   "metadata": {},
   "outputs": [
    {
     "data": {
      "text/plain": [
       "0.3149109566369728"
      ]
     },
     "execution_count": 26,
     "metadata": {},
     "output_type": "execute_result"
    }
   ],
   "source": [
    "skew_len= stat_df[\"sepal_length\"].skew()\n",
    "skew_len"
   ]
  },
  {
   "cell_type": "code",
   "execution_count": 27,
   "id": "45a9c376-cfe1-44f7-a599-8fb84ae454c1",
   "metadata": {},
   "outputs": [
    {
     "data": {
      "text/plain": [
       "0.3340526621720866"
      ]
     },
     "execution_count": 27,
     "metadata": {},
     "output_type": "execute_result"
    }
   ],
   "source": [
    "skew_width= stat_df[\"sepal_width\"].skew()\n",
    "skew_width"
   ]
  },
  {
   "cell_type": "code",
   "execution_count": 28,
   "id": "89289215-7906-44d2-a236-e0e434ec90b5",
   "metadata": {},
   "outputs": [],
   "source": [
    "Ans6=\"\"\" sepal_length is closer to zero means more easy to work\"\"\""
   ]
  },
  {
   "cell_type": "code",
   "execution_count": 29,
   "id": "5bd55a46-1308-4ffc-98ac-523aeb99ba2a",
   "metadata": {},
   "outputs": [],
   "source": [
    "Que7=\"\"\"Coefficient of Variation \n",
    "        Calculate the coefficient of variation (CV) for sepal_length and petal_length. Which feature \n",
    "        has greater relative variability, and what does this tell you about the dataset?\"\"\""
   ]
  },
  {
   "cell_type": "code",
   "execution_count": 30,
   "id": "cda5fccc-6232-48e1-876a-fd1c3be3353a",
   "metadata": {},
   "outputs": [
    {
     "data": {
      "text/plain": [
       "14.171125977944033"
      ]
     },
     "execution_count": 30,
     "metadata": {},
     "output_type": "execute_result"
    }
   ],
   "source": [
    "cv_sepal= (stat_df[\"sepal_length\"].std()/stat_df[\"sepal_length\"].mean()) *100\n",
    "cv_sepal"
   ]
  },
  {
   "cell_type": "code",
   "execution_count": 31,
   "id": "0039cd59-8994-4c77-b1de-47934586c520",
   "metadata": {},
   "outputs": [
    {
     "data": {
      "text/plain": [
       "46.942721353820374"
      ]
     },
     "execution_count": 31,
     "metadata": {},
     "output_type": "execute_result"
    }
   ],
   "source": [
    "cv_petal= (stat_df[\"petal_length\"].std()/stat_df[\"petal_length\"].mean()) *100\n",
    "cv_petal"
   ]
  },
  {
   "cell_type": "code",
   "execution_count": 103,
   "id": "17c12ada-55b3-42c0-9162-00f530c0a442",
   "metadata": {},
   "outputs": [],
   "source": [
    "Ans7=\"\"\" cv of petal_length is higher which shows higher variability means less consistent and data is more spread .\"\"\""
   ]
  },
  {
   "cell_type": "code",
   "execution_count": 33,
   "id": "037da957-aaa6-48cd-bf3c-3776b483e673",
   "metadata": {},
   "outputs": [],
   "source": [
    "Que8=\"\"\"Outlier Detection using IQR \n",
    "        Identify the outliers in the sepal_length feature using the IQR method (define outliers as \n",
    "        values that fall below Q1 - 1.5 * IQR or above Q3 + 1.5 * IQR). How many outliers are \n",
    "        present? \"\"\""
   ]
  },
  {
   "cell_type": "code",
   "execution_count": 34,
   "id": "030a5e4e-5d98-4121-b89b-9c0a00fc12d8",
   "metadata": {},
   "outputs": [
    {
     "data": {
      "text/plain": [
       "6.4"
      ]
     },
     "execution_count": 34,
     "metadata": {},
     "output_type": "execute_result"
    }
   ],
   "source": [
    "q1= stat_df[\"sepal_length\"].quantile(0.75)\n",
    "q1"
   ]
  },
  {
   "cell_type": "code",
   "execution_count": 35,
   "id": "50faec1a-cbbe-4db9-a25e-a4461f9d7e5c",
   "metadata": {},
   "outputs": [
    {
     "data": {
      "text/plain": [
       "5.1"
      ]
     },
     "execution_count": 35,
     "metadata": {},
     "output_type": "execute_result"
    }
   ],
   "source": [
    "q2 =stat_df[\"sepal_length\"].quantile(0.25)\n",
    "q2"
   ]
  },
  {
   "cell_type": "code",
   "execution_count": 36,
   "id": "3069491a-4378-4236-a7b6-dfd5b9bc1ffc",
   "metadata": {},
   "outputs": [
    {
     "data": {
      "text/plain": [
       "1.3000000000000007"
      ]
     },
     "execution_count": 36,
     "metadata": {},
     "output_type": "execute_result"
    }
   ],
   "source": [
    "iqr=q1-q2\n",
    "iqr"
   ]
  },
  {
   "cell_type": "code",
   "execution_count": 37,
   "id": "54cf164f-dbe0-45b8-9b6c-be466ed7639f",
   "metadata": {},
   "outputs": [
    {
     "data": {
      "text/plain": [
       "3.1499999999999986"
      ]
     },
     "execution_count": 37,
     "metadata": {},
     "output_type": "execute_result"
    }
   ],
   "source": [
    "lower_length= q2-1.5*iqr\n",
    "lower_length"
   ]
  },
  {
   "cell_type": "code",
   "execution_count": 38,
   "id": "9f8cdf71-40ff-473a-858f-a13b6cb25947",
   "metadata": {},
   "outputs": [
    {
     "data": {
      "text/plain": [
       "8.350000000000001"
      ]
     },
     "execution_count": 38,
     "metadata": {},
     "output_type": "execute_result"
    }
   ],
   "source": [
    "upper_length= q1+1.5*iqr\n",
    "upper_length"
   ]
  },
  {
   "cell_type": "code",
   "execution_count": 39,
   "id": "5c1b74bd-8178-44fd-97b1-db47ad850960",
   "metadata": {},
   "outputs": [
    {
     "name": "stdout",
     "output_type": "stream",
     "text": [
      "Empty DataFrame\n",
      "Columns: [sepal_length, sepal_width, petal_length, petal_width, species]\n",
      "Index: []\n"
     ]
    }
   ],
   "source": [
    "outliers_length= stat_df[(stat_df['sepal_length']>upper_length) |\n",
    "                  (stat_df['sepal_length']<lower_length)]\n",
    "print( outliers_length)"
   ]
  },
  {
   "cell_type": "code",
   "execution_count": null,
   "id": "ba39dc84-e0c8-477d-9a9f-39a5b67e722a",
   "metadata": {},
   "outputs": [],
   "source": []
  },
  {
   "cell_type": "code",
   "execution_count": null,
   "id": "34395d8a-ee8a-4383-ab3f-c68ae5889c5b",
   "metadata": {},
   "outputs": [],
   "source": []
  }
 ],
 "metadata": {
  "kernelspec": {
   "display_name": "Python 3 (ipykernel)",
   "language": "python",
   "name": "python3"
  },
  "language_info": {
   "codemirror_mode": {
    "name": "ipython",
    "version": 3
   },
   "file_extension": ".py",
   "mimetype": "text/x-python",
   "name": "python",
   "nbconvert_exporter": "python",
   "pygments_lexer": "ipython3",
   "version": "3.12.4"
  }
 },
 "nbformat": 4,
 "nbformat_minor": 5
}
